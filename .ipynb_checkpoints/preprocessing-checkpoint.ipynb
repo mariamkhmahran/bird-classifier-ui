{
 "cells": [
  {
   "cell_type": "markdown",
   "id": "178df14d",
   "metadata": {},
   "source": [
    "# Data Preprocessing"
   ]
  },
  {
   "cell_type": "code",
   "execution_count": 1,
   "id": "a58d8eff",
   "metadata": {},
   "outputs": [],
   "source": [
    "import os\n",
    "import pandas as pd\n",
    "import numpy as np\n",
    "import seaborn as sns\n",
    "import matplotlib.pyplot as plt\n",
    "from matplotlib.image import imread\n",
    "%matplotlib inline"
   ]
  },
  {
   "cell_type": "markdown",
   "id": "a9c1d180",
   "metadata": {},
   "source": [
    "## Data Description"
   ]
  },
  {
   "cell_type": "markdown",
   "id": "02e4a721",
   "metadata": {},
   "source": [
    "The dataset consists of 3000 bird images equally divided into 3 classes. The classes represent three different bird species which are the Erithacus Rubecu-la (the European robin), the Periparus Ater (the Coal Tit), and the Pica Pica (the Eurasian magpie). "
   ]
  },
  {
   "attachments": {},
   "cell_type": "markdown",
   "id": "e36a9c51",
   "metadata": {},
   "source": [
    "### Data Cleaning:\n",
    "\n",
    "1. The dataset contains some unusable pictures (e.g., duplicate images or images with no birds visible). Those images were manually filtered and removed before any data preprocessing was applied. The cleaned dataset was saved in ./Brids_cleaned"
   ]
  },
  {
   "cell_type": "markdown",
   "id": "2f67af5a",
   "metadata": {},
   "source": [
    "\n",
    "2. The original images come in a wide range of sizes; however, the majority of heights and widths are at least 600 pixels."
   ]
  },
  {
   "cell_type": "code",
   "execution_count": null,
   "id": "77d7bfee",
   "metadata": {},
   "outputs": [],
   "source": []
  }
 ],
 "metadata": {
  "kernelspec": {
   "display_name": "Python 3 (ipykernel)",
   "language": "python",
   "name": "python3"
  },
  "language_info": {
   "codemirror_mode": {
    "name": "ipython",
    "version": 3
   },
   "file_extension": ".py",
   "mimetype": "text/x-python",
   "name": "python",
   "nbconvert_exporter": "python",
   "pygments_lexer": "ipython3",
   "version": "3.9.13"
  }
 },
 "nbformat": 4,
 "nbformat_minor": 5
}
