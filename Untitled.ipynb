{
 "cells": [
  {
   "cell_type": "code",
   "execution_count": 4,
   "id": "7121cc0d-61b9-46eb-bdcc-8592c61b8557",
   "metadata": {},
   "outputs": [
    {
     "name": "stdout",
     "output_type": "stream",
     "text": [
      "/bin/bash: gedit: command not found\n"
     ]
    }
   ],
   "source": [
    "!gedit ./Tagging/public/example/label_candidates.json"
   ]
  },
  {
   "cell_type": "code",
   "execution_count": 2,
   "id": "ed77af2f-ffb9-40fc-9e68-53fe79529a4e",
   "metadata": {},
   "outputs": [
    {
     "name": "stdout",
     "output_type": "stream",
     "text": [
      "Collecting gedit\n",
      "  Downloading gedit-0.0.2-py3-none-any.whl (2.1 kB)\n",
      "Installing collected packages: gedit\n",
      "Successfully installed gedit-0.0.2\n"
     ]
    }
   ],
   "source": [
    "!pip install gedit"
   ]
  },
  {
   "cell_type": "code",
   "execution_count": 5,
   "id": "76331154-d97d-4a33-a855-873bc0cdfc52",
   "metadata": {},
   "outputs": [
    {
     "name": "stdout",
     "output_type": "stream",
     "text": [
      "/home/msc1/Desktop/Tensorflow-Object-Detection-API/Base/v1/Tagging\n"
     ]
    }
   ],
   "source": [
    "%cd ./Tagging\n"
   ]
  },
  {
   "cell_type": "code",
   "execution_count": 6,
   "id": "d26e735c-d0b8-4ffa-87f3-4cca611427c0",
   "metadata": {},
   "outputs": [
    {
     "name": "stdout",
     "output_type": "stream",
     "text": [
      "Traceback (most recent call last):\n",
      "  File \"server.py\", line 1, in <module>\n",
      "    from renom_tag import server\n",
      "  File \"/home/msc1/Desktop/Tensorflow-Object-Detection-API/Base/v1/Tagging/renom_tag/server.py\", line 9, in <module>\n",
      "    from bottle import (HTTPResponse, route, run, static_file, request,\n",
      "ModuleNotFoundError: No module named 'bottle'\n"
     ]
    }
   ],
   "source": [
    "!python server.py\n"
   ]
  },
  {
   "cell_type": "code",
   "execution_count": null,
   "id": "b130abb7-6a69-4916-b13d-8b1d0352d5ac",
   "metadata": {},
   "outputs": [],
   "source": []
  }
 ],
 "metadata": {
  "kernelspec": {
   "display_name": "Python 3",
   "language": "python",
   "name": "python3"
  },
  "language_info": {
   "codemirror_mode": {
    "name": "ipython",
    "version": 3
   },
   "file_extension": ".py",
   "mimetype": "text/x-python",
   "name": "python",
   "nbconvert_exporter": "python",
   "pygments_lexer": "ipython3",
   "version": "3.7.10"
  }
 },
 "nbformat": 4,
 "nbformat_minor": 5
}
