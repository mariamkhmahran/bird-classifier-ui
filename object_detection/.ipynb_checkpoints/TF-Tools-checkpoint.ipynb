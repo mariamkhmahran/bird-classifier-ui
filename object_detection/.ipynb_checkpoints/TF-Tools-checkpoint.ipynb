{
 "cells": [
  {
   "cell_type": "markdown",
   "metadata": {},
   "source": [
    "## Tools"
   ]
  },
  {
   "cell_type": "markdown",
   "metadata": {},
   "source": [
    "### TFRecord Viewer"
   ]
  },
  {
   "cell_type": "code",
   "execution_count": null,
   "metadata": {},
   "outputs": [],
   "source": [
    "!cd ./tools/tfrecord-viewer/"
   ]
  },
  {
   "cell_type": "code",
   "execution_count": 5,
   "metadata": {},
   "outputs": [
    {
     "name": "stdout",
     "output_type": "stream",
     "text": [
      "Pre-loading up to 200 examples..\n",
      "Traceback (most recent call last):\n",
      "  File \"./tools/tfrecord-viewer/tfviewer.py\", line 141, in <module>\n",
      "    count = preload_images(args.max_images)\n",
      "  File \"./tools/tfrecord-viewer/tfviewer.py\", line 82, in preload_images\n",
      "    overlay = overlay_factory.get_overlay(args.overlay, args)\n",
      "  File \"/home/msc1/Desktop/Tensorflow-Object-Detection-API/Arial_Model/v1/object_detection/tools/tfrecord-viewer/overlays/overlay_factory.py\", line 25, in get_overlay\n",
      "    return overlay_map[name](args)\n",
      "  File \"/home/msc1/Desktop/Tensorflow-Object-Detection-API/Arial_Model/v1/object_detection/tools/tfrecord-viewer/overlays/detection_overlay.py\", line 14, in __init__\n",
      "    self.font = ImageFont.truetype(\"./fonts/OpenSans-Regular.ttf\", 12)\n",
      "  File \"/home/msc1/anaconda3/envs/Object-Detection-API/lib/python3.8/site-packages/PIL/ImageFont.py\", line 655, in truetype\n",
      "    return freetype(font)\n",
      "  File \"/home/msc1/anaconda3/envs/Object-Detection-API/lib/python3.8/site-packages/PIL/ImageFont.py\", line 652, in freetype\n",
      "    return FreeTypeFont(font, size, index, encoding, layout_engine)\n",
      "  File \"/home/msc1/anaconda3/envs/Object-Detection-API/lib/python3.8/site-packages/PIL/ImageFont.py\", line 193, in __init__\n",
      "    self.font = core.getfont(\n",
      "OSError: cannot open resource\n"
     ]
    }
   ],
   "source": [
    "!python tfviewer.py ../../data/train.record --labels-to-highlight='Car;LoxodontaAfricana;'"
   ]
  },
  {
   "cell_type": "code",
   "execution_count": null,
   "metadata": {},
   "outputs": [],
   "source": []
  }
 ],
 "metadata": {
  "kernelspec": {
   "display_name": "Python 3",
   "language": "python",
   "name": "python3"
  },
  "language_info": {
   "codemirror_mode": {
    "name": "ipython",
    "version": 3
   },
   "file_extension": ".py",
   "mimetype": "text/x-python",
   "name": "python",
   "nbconvert_exporter": "python",
   "pygments_lexer": "ipython3",
   "version": "3.8.5"
  }
 },
 "nbformat": 4,
 "nbformat_minor": 4
}
