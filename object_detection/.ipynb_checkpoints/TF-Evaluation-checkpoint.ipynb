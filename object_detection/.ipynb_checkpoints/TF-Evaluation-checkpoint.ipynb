{
 "cells": [
  {
   "cell_type": "markdown",
   "metadata": {},
   "source": [
    "## Evaluation\n",
    "\n",
    "### Runs the TensorFlow Evaluation script \n",
    "\n",
    "#### v1.0"
   ]
  },
  {
   "cell_type": "code",
   "execution_count": 1,
   "metadata": {},
   "outputs": [],
   "source": [
    "# Set model path\n",
    "\n",
    "#PATH_TO_MODEL = \"faster_rcnn_resnet101_v1_640x640_coco17_tpu-8\"\n",
    "PATH_TO_MODEL = \"faster_rcnn_resnet101_v1_1024x1024_coco17_tpu-8\"\n",
    "#PATH_TO_MODEL = \"efficientdet_d3_coco17_tpu-32\"\n",
    "#PATH_TO_MODEL = \"efficientdet_d4_coco17_tpu-32\"\n",
    "#PATH_TO_MODEL = \"centernet_hg104_1024x1024_coco17_tpu-32\""
   ]
  },
  {
   "cell_type": "code",
   "execution_count": 2,
   "metadata": {
    "scrolled": true
   },
   "outputs": [
    {
     "name": "stdout",
     "output_type": "stream",
     "text": [
      "^C\n"
     ]
    }
   ],
   "source": [
    "!set CUDA_VISIBLE_DEVICES=\"\" & python model_main_tf2.py --pipeline_config_path=training/TF2/training/{PATH_TO_MODEL}/pipeline.config --model_dir=training/TF2/training/{PATH_TO_MODEL} --checkpoint_dir=training/TF2/training/{PATH_TO_MODEL} --alsologtostderr"
   ]
  },
  {
   "cell_type": "code",
   "execution_count": null,
   "metadata": {
    "scrolled": true
   },
   "outputs": [],
   "source": [
    "!python model_main_tf2.py --pipeline_config_path=training/TF2/training/{PATH_TO_MODEL}/pipeline.config --model_dir=training/TF2/training/{PATH_TO_MODEL} --checkpoint_dir=training/TF2/training/{PATH_TO_MODEL} --alsologtostderr"
   ]
  },
  {
   "cell_type": "code",
   "execution_count": null,
   "metadata": {},
   "outputs": [],
   "source": []
  },
  {
   "cell_type": "code",
   "execution_count": null,
   "metadata": {},
   "outputs": [],
   "source": []
  }
 ],
 "metadata": {
  "kernelspec": {
   "display_name": "Python 3",
   "language": "python",
   "name": "python3"
  },
  "language_info": {
   "codemirror_mode": {
    "name": "ipython",
    "version": 3
   },
   "file_extension": ".py",
   "mimetype": "text/x-python",
   "name": "python",
   "nbconvert_exporter": "python",
   "pygments_lexer": "ipython3",
   "version": "3.7.11"
  }
 },
 "nbformat": 4,
 "nbformat_minor": 4
}
