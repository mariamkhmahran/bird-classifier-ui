{
 "cells": [
  {
   "cell_type": "markdown",
   "metadata": {
    "colab_type": "text",
    "id": "uQCnYPVDrsgx"
   },
   "source": [
    "## This Notebook assumes that you have a working Tensorflow-GPU installation of v2.2 and have succussfully installed and configured the Tensorflow Object Detection API outlined here: https://tensorflow-object-detection-api-tutorial.readthedocs.io/en/latest/training.html#"
   ]
  },
  {
   "cell_type": "markdown",
   "metadata": {},
   "source": [
    "## 1) Clean the XML - This will create a new directory under ./images called cleaned. Once script is run copy the contents back to /images overwriting the existing xml"
   ]
  },
  {
   "cell_type": "code",
   "execution_count": 1,
   "metadata": {
    "scrolled": true
   },
   "outputs": [
    {
     "name": "stdout",
     "output_type": "stream",
     "text": [
      "images/Car02.xml\n",
      "images/Car119.xml\n",
      "images/Car84.xml\n",
      "images/Car117.xml\n",
      "images/Car107.xml\n",
      "images/LoxodontaAfricana028.xml\n",
      "images/Car121.xml\n",
      "images/LoxodontaAfricana091.xml\n",
      "images/Car47.xml\n",
      "images/Car53.xml\n",
      "images/Car122.xml\n",
      "images/LoxodontaAfricana088.xml\n",
      "images/Car148.xml\n",
      "images/Car22.xml\n",
      "images/Car128.xml\n",
      "images/Car58.xml\n",
      "images/LoxodontaAfricana047.xml\n",
      "images/Car06.xml\n",
      "images/Car64.xml\n",
      "images/Car34.xml\n",
      "images/Car52.xml\n",
      "images/Car120.xml\n",
      "images/LoxodontaAfricana014.xml\n",
      "images/LoxodontaAfricana060.xml\n",
      "images/LoxodontaAfricana078.xml\n",
      "images/Car68.xml\n",
      "images/Car138.xml\n",
      "images/Car13.xml\n",
      "images/LoxodontaAfricana094.xml\n",
      "images/LoxodontaAfricana015.xml\n",
      "images/Car63.xml\n",
      "images/Car18.xml\n",
      "images/LoxodontaAfricana007.xml\n",
      "images/Car151.xml\n",
      "images/Car105.xml\n",
      "images/Car62.xml\n",
      "images/Car675.xml\n",
      "images/LoxodontaAfricana039.xml\n",
      "images/LoxodontaAfricana011.xml\n",
      "images/LoxodontaAfricana066.xml\n",
      "images/LoxodontaAfricana033.xml\n",
      "images/Car59.xml\n",
      "images/LoxodontaAfricana098.xml\n",
      "images/LoxodontaAfricana069.xml\n",
      "images/Car65.xml\n",
      "images/Car44.xml\n",
      "images/Car46.xml\n",
      "images/LoxodontaAfricana042.xml\n",
      "images/Car133.xml\n",
      "images/LoxodontaAfricana058.xml\n",
      "images/LoxodontaAfricana016.xml\n",
      "images/Car05.xml\n",
      "images/Car103.xml\n",
      "images/LoxodontaAfricana111.xml\n",
      "images/LoxodontaAfricana093.xml\n",
      "images/LoxodontaAfricana049.xml\n",
      "images/LoxodontaAfricana073.xml\n",
      "images/LoxodontaAfricana055.xml\n",
      "images/LoxodontaAfricana096.xml\n",
      "images/Car49.xml\n",
      "images/Car131.xml\n",
      "images/LoxodontaAfricana076.xml\n",
      "images/Car83.xml\n",
      "images/Car132.xml\n",
      "images/Car149.xml\n",
      "images/Car24.xml\n",
      "images/LoxodontaAfricana021.xml\n",
      "images/Car40.xml\n",
      "images/Car140.xml\n",
      "images/LoxodontaAfricana005.xml\n",
      "images/Car10.xml\n",
      "images/Car126.xml\n",
      "images/LoxodontaAfricana107.xml\n",
      "images/LoxodontaAfricana020.xml\n",
      "images/LoxodontaAfricana029.xml\n",
      "images/Car144.xml\n",
      "images/LoxodontaAfricana024.xml\n",
      "images/LoxodontaAfricana061.xml\n",
      "images/LoxodontaAfricana062.xml\n",
      "images/Car127.xml\n",
      "images/Car113.xml\n",
      "images/LoxodontaAfricana017.xml\n",
      "images/LoxodontaAfricana074.xml\n",
      "images/LoxodontaAfricana004.xml\n",
      "images/Car54.xml\n",
      "images/LoxodontaAfricana092.xml\n",
      "images/Car32.xml\n",
      "images/Car109.xml\n",
      "images/Car80.xml\n",
      "images/LoxodontaAfricana044.xml\n",
      "images/LoxodontaAfricana079.xml\n",
      "images/LoxodontaAfricana063.xml\n",
      "images/LoxodontaAfricana072.xml\n",
      "images/Car146.xml\n",
      "images/LoxodontaAfricana031.xml\n",
      "images/LoxodontaAfricana036.xml\n",
      "images/Car36.xml\n",
      "images/Car116.xml\n",
      "images/Car74.xml\n",
      "images/LoxodontaAfricana120.xml\n",
      "images/LoxodontaAfricana067.xml\n",
      "images/Car77.xml\n",
      "images/LoxodontaAfricana109.xml\n",
      "images/LoxodontaAfricana101.xml\n",
      "images/LoxodontaAfricana046.xml\n",
      "images/Car15.xml\n",
      "images/Car154.xml\n",
      "images/LoxodontaAfricana013.xml\n",
      "images/Car111.xml\n",
      "images/Car25.xml\n",
      "images/LoxodontaAfricana095.xml\n",
      "images/Car35.xml\n",
      "images/LoxodontaAfricana022.xml\n",
      "images/LoxodontaAfricana104.xml\n",
      "images/LoxodontaAfricana056.xml\n",
      "images/LoxodontaAfricana089.xml\n",
      "images/Car108.xml\n",
      "images/LoxodontaAfricana025.xml\n",
      "images/LoxodontaAfricana038.xml\n",
      "images/Car42.xml\n",
      "images/Car104.xml\n",
      "images/Car11.xml\n",
      "images/Car55.xml\n",
      "images/Car678.xml\n",
      "images/LoxodontaAfricana027.xml\n",
      "images/LoxodontaAfricana099.xml\n",
      "images/LoxodontaAfricana097.xml\n",
      "images/Car114.xml\n",
      "images/Car73.xml\n",
      "images/LoxodontaAfricana090.xml\n",
      "images/Car14.xml\n",
      "images/Car67.xml\n",
      "images/LoxodontaAfricana100.xml\n",
      "images/Car129.xml\n",
      "images/LoxodontaAfricana083.xml\n",
      "images/Car142.xml\n",
      "images/LoxodontaAfricana068.xml\n",
      "images/LoxodontaAfricana001.xml\n",
      "images/Car60.xml\n",
      "images/LoxodontaAfricana010.xml\n",
      "images/Car125.xml\n",
      "images/Car69.xml\n",
      "images/Car153.xml\n",
      "images/Car30.xml\n",
      "images/LoxodontaAfricana070.xml\n",
      "images/Car04.xml\n",
      "images/Car45.xml\n",
      "images/Car123.xml\n",
      "images/Car57.xml\n",
      "images/LoxodontaAfricana040.xml\n",
      "images/Car09.xml\n",
      "images/LoxodontaAfricana030.xml\n",
      "images/Car50.xml\n",
      "images/Car118.xml\n",
      "images/Car48.xml\n",
      "images/Car03.xml\n",
      "images/Car78.xml\n",
      "images/Car79.xml\n",
      "images/Car27.xml\n",
      "images/LoxodontaAfricana082.xml\n",
      "images/Car112.xml\n",
      "images/LoxodontaAfricana045.xml\n",
      "images/LoxodontaAfricana085.xml\n",
      "images/Car56.xml\n",
      "images/LoxodontaAfricana054.xml\n",
      "images/LoxodontaAfricana050.xml\n",
      "images/Car75.xml\n",
      "images/Car70.xml\n",
      "images/Car145.xml\n",
      "images/Car31.xml\n",
      "images/LoxodontaAfricana112.xml\n",
      "images/LoxodontaAfricana035.xml\n",
      "images/Car139.xml\n",
      "images/LoxodontaAfricana113.xml\n",
      "images/LoxodontaAfricana086.xml\n",
      "images/Car130.xml\n",
      "images/Car26.xml\n",
      "images/Car106.xml\n",
      "images/LoxodontaAfricana102.xml\n",
      "images/Car16.xml\n",
      "images/LoxodontaAfricana105.xml\n"
     ]
    }
   ],
   "source": [
    "!python xmlconversion.py --verbose"
   ]
  },
  {
   "cell_type": "markdown",
   "metadata": {},
   "source": [
    "## Patition the train / test split 90/10"
   ]
  },
  {
   "cell_type": "code",
   "execution_count": 2,
   "metadata": {},
   "outputs": [],
   "source": [
    "!python partition_dataset.py -x -i ./images -r 0.1"
   ]
  },
  {
   "cell_type": "markdown",
   "metadata": {},
   "source": [
    "## Create the TF Record"
   ]
  },
  {
   "cell_type": "markdown",
   "metadata": {},
   "source": [
    "### Update the .PBTXT file"
   ]
  },
  {
   "cell_type": "code",
   "execution_count": 3,
   "metadata": {},
   "outputs": [
    {
     "name": "stdout",
     "output_type": "stream",
     "text": [
      "/bin/bash: notepad.exe: command not found\n"
     ]
    }
   ],
   "source": [
    "!notepad.exe './data/label_map.pbtxt'"
   ]
  },
  {
   "cell_type": "markdown",
   "metadata": {},
   "source": [
    "### Create the TF Record (Train)"
   ]
  },
  {
   "cell_type": "code",
   "execution_count": 4,
   "metadata": {
    "scrolled": true
   },
   "outputs": [
    {
     "name": "stdout",
     "output_type": "stream",
     "text": [
      "Successfully created the TFRecord file: data/train.record\n"
     ]
    }
   ],
   "source": [
    "!python generate_tfrecord.py -x images/train -l data/label_map.pbtxt -o data/train.record"
   ]
  },
  {
   "cell_type": "markdown",
   "metadata": {},
   "source": [
    "### Create the TF Record (Test)"
   ]
  },
  {
   "cell_type": "code",
   "execution_count": 5,
   "metadata": {
    "scrolled": true
   },
   "outputs": [
    {
     "name": "stdout",
     "output_type": "stream",
     "text": [
      "Successfully created the TFRecord file: data/test.record\n"
     ]
    }
   ],
   "source": [
    "!python generate_tfrecord.py -x images/test -l data/label_map.pbtxt -o data/test.record"
   ]
  },
  {
   "cell_type": "markdown",
   "metadata": {},
   "source": [
    "### Set the model path"
   ]
  },
  {
   "cell_type": "code",
   "execution_count": 1,
   "metadata": {},
   "outputs": [],
   "source": [
    "#PATH_TO_MODEL = \"faster_rcnn_resnet101_v1_640x640_coco17_tpu-8\"\n",
    "PATH_TO_MODEL = \"faster_rcnn_resnet101_v1_1024x1024_coco17_tpu-8\"\n",
    "#PATH_TO_MODEL = \"efficientdet_d3_coco17_tpu-32\"\n",
    "#PATH_TO_MODEL = \"efficientdet_d4_coco17_tpu-32\"\n",
    "#PATH_TO_MODEL = \"centernet_hg104_1024x1024_coco17_tpu-32\""
   ]
  },
  {
   "cell_type": "markdown",
   "metadata": {},
   "source": [
    "## Configure the config file"
   ]
  },
  {
   "cell_type": "code",
   "execution_count": 7,
   "metadata": {},
   "outputs": [],
   "source": [
    "!code './training/TF2/training/'{PATH_TO_MODEL}'/pipeline.config'"
   ]
  },
  {
   "cell_type": "markdown",
   "metadata": {
    "colab_type": "text",
    "id": "yhzxsJb3dpWq"
   },
   "source": [
    "## Hyperparameters"
   ]
  },
  {
   "cell_type": "code",
   "execution_count": null,
   "metadata": {
    "scrolled": true
   },
   "outputs": [
    {
     "name": "stdout",
     "output_type": "stream",
     "text": [
      "2021-08-19 10:13:46.025970: I tensorflow/stream_executor/platform/default/dso_loader.cc:44] Successfully opened dynamic library libcuda.so.1\n",
      "2021-08-19 10:13:46.056089: I tensorflow/stream_executor/cuda/cuda_gpu_executor.cc:981] successful NUMA node read from SysFS had negative value (-1), but there must be at least one NUMA node, so returning NUMA node zero\n",
      "2021-08-19 10:13:46.056688: I tensorflow/core/common_runtime/gpu/gpu_device.cc:1561] Found device 0 with properties: \n",
      "pciBusID: 0000:01:00.0 name: GeForce RTX 3090 computeCapability: 8.6\n",
      "coreClock: 1.755GHz coreCount: 82 deviceMemorySize: 23.69GiB deviceMemoryBandwidth: 871.81GiB/s\n",
      "2021-08-19 10:13:46.056841: I tensorflow/stream_executor/platform/default/dso_loader.cc:44] Successfully opened dynamic library libcudart.so.10.1\n",
      "2021-08-19 10:13:46.057891: I tensorflow/stream_executor/platform/default/dso_loader.cc:44] Successfully opened dynamic library libcublas.so.10\n",
      "2021-08-19 10:13:46.058897: I tensorflow/stream_executor/platform/default/dso_loader.cc:44] Successfully opened dynamic library libcufft.so.10\n",
      "2021-08-19 10:13:46.059073: I tensorflow/stream_executor/platform/default/dso_loader.cc:44] Successfully opened dynamic library libcurand.so.10\n",
      "2021-08-19 10:13:46.060206: I tensorflow/stream_executor/platform/default/dso_loader.cc:44] Successfully opened dynamic library libcusolver.so.10\n",
      "2021-08-19 10:13:46.060850: I tensorflow/stream_executor/platform/default/dso_loader.cc:44] Successfully opened dynamic library libcusparse.so.10\n",
      "2021-08-19 10:13:46.063239: I tensorflow/stream_executor/platform/default/dso_loader.cc:44] Successfully opened dynamic library libcudnn.so.7\n",
      "2021-08-19 10:13:46.063328: I tensorflow/stream_executor/cuda/cuda_gpu_executor.cc:981] successful NUMA node read from SysFS had negative value (-1), but there must be at least one NUMA node, so returning NUMA node zero\n",
      "2021-08-19 10:13:46.063972: I tensorflow/stream_executor/cuda/cuda_gpu_executor.cc:981] successful NUMA node read from SysFS had negative value (-1), but there must be at least one NUMA node, so returning NUMA node zero\n",
      "2021-08-19 10:13:46.064536: I tensorflow/core/common_runtime/gpu/gpu_device.cc:1703] Adding visible gpu devices: 0\n",
      "2021-08-19 10:13:46.064913: I tensorflow/core/platform/cpu_feature_guard.cc:143] Your CPU supports instructions that this TensorFlow binary was not compiled to use: SSE4.1 SSE4.2 AVX AVX2 FMA\n",
      "2021-08-19 10:13:46.092821: I tensorflow/core/platform/profile_utils/cpu_utils.cc:102] CPU Frequency: 3699850000 Hz\n",
      "2021-08-19 10:13:46.093523: I tensorflow/compiler/xla/service/service.cc:168] XLA service 0x55a608570320 initialized for platform Host (this does not guarantee that XLA will be used). Devices:\n",
      "2021-08-19 10:13:46.093536: I tensorflow/compiler/xla/service/service.cc:176]   StreamExecutor device (0): Host, Default Version\n",
      "2021-08-19 10:13:46.094017: I tensorflow/stream_executor/cuda/cuda_gpu_executor.cc:981] successful NUMA node read from SysFS had negative value (-1), but there must be at least one NUMA node, so returning NUMA node zero\n",
      "2021-08-19 10:13:46.094589: I tensorflow/core/common_runtime/gpu/gpu_device.cc:1561] Found device 0 with properties: \n",
      "pciBusID: 0000:01:00.0 name: GeForce RTX 3090 computeCapability: 8.6\n",
      "coreClock: 1.755GHz coreCount: 82 deviceMemorySize: 23.69GiB deviceMemoryBandwidth: 871.81GiB/s\n",
      "2021-08-19 10:13:46.094615: I tensorflow/stream_executor/platform/default/dso_loader.cc:44] Successfully opened dynamic library libcudart.so.10.1\n",
      "2021-08-19 10:13:46.094628: I tensorflow/stream_executor/platform/default/dso_loader.cc:44] Successfully opened dynamic library libcublas.so.10\n",
      "2021-08-19 10:13:46.094640: I tensorflow/stream_executor/platform/default/dso_loader.cc:44] Successfully opened dynamic library libcufft.so.10\n",
      "2021-08-19 10:13:46.094652: I tensorflow/stream_executor/platform/default/dso_loader.cc:44] Successfully opened dynamic library libcurand.so.10\n",
      "2021-08-19 10:13:46.094664: I tensorflow/stream_executor/platform/default/dso_loader.cc:44] Successfully opened dynamic library libcusolver.so.10\n",
      "2021-08-19 10:13:46.094676: I tensorflow/stream_executor/platform/default/dso_loader.cc:44] Successfully opened dynamic library libcusparse.so.10\n",
      "2021-08-19 10:13:46.094688: I tensorflow/stream_executor/platform/default/dso_loader.cc:44] Successfully opened dynamic library libcudnn.so.7\n",
      "2021-08-19 10:13:46.094732: I tensorflow/stream_executor/cuda/cuda_gpu_executor.cc:981] successful NUMA node read from SysFS had negative value (-1), but there must be at least one NUMA node, so returning NUMA node zero\n",
      "2021-08-19 10:13:46.095318: I tensorflow/stream_executor/cuda/cuda_gpu_executor.cc:981] successful NUMA node read from SysFS had negative value (-1), but there must be at least one NUMA node, so returning NUMA node zero\n",
      "2021-08-19 10:13:46.095870: I tensorflow/core/common_runtime/gpu/gpu_device.cc:1703] Adding visible gpu devices: 0\n",
      "2021-08-19 10:13:46.096096: I tensorflow/stream_executor/platform/default/dso_loader.cc:44] Successfully opened dynamic library libcudart.so.10.1\n",
      "2021-08-19 10:13:46.171453: I tensorflow/core/common_runtime/gpu/gpu_device.cc:1102] Device interconnect StreamExecutor with strength 1 edge matrix:\n",
      "2021-08-19 10:13:46.171473: I tensorflow/core/common_runtime/gpu/gpu_device.cc:1108]      0 \n",
      "2021-08-19 10:13:46.171479: I tensorflow/core/common_runtime/gpu/gpu_device.cc:1121] 0:   N \n",
      "2021-08-19 10:13:46.171605: I tensorflow/stream_executor/cuda/cuda_gpu_executor.cc:981] successful NUMA node read from SysFS had negative value (-1), but there must be at least one NUMA node, so returning NUMA node zero\n",
      "2021-08-19 10:13:46.172207: I tensorflow/stream_executor/cuda/cuda_gpu_executor.cc:981] successful NUMA node read from SysFS had negative value (-1), but there must be at least one NUMA node, so returning NUMA node zero\n",
      "2021-08-19 10:13:46.172789: I tensorflow/stream_executor/cuda/cuda_gpu_executor.cc:981] successful NUMA node read from SysFS had negative value (-1), but there must be at least one NUMA node, so returning NUMA node zero\n",
      "2021-08-19 10:13:46.173344: I tensorflow/core/common_runtime/gpu/gpu_device.cc:1247] Created TensorFlow device (/job:localhost/replica:0/task:0/device:GPU:0 with 22267 MB memory) -> physical GPU (device: 0, name: GeForce RTX 3090, pci bus id: 0000:01:00.0, compute capability: 8.6)\n",
      "2021-08-19 10:13:46.177808: I tensorflow/compiler/xla/service/service.cc:168] XLA service 0x55a609bd1370 initialized for platform CUDA (this does not guarantee that XLA will be used). Devices:\n",
      "2021-08-19 10:13:46.177821: I tensorflow/compiler/xla/service/service.cc:176]   StreamExecutor device (0): GeForce RTX 3090, Compute Capability 8.6\n",
      "INFO:tensorflow:Using MirroredStrategy with devices ('/job:localhost/replica:0/task:0/device:GPU:0',)\n",
      "I0819 10:13:46.179822 140593170514304 mirrored_strategy.py:500] Using MirroredStrategy with devices ('/job:localhost/replica:0/task:0/device:GPU:0',)\n",
      "INFO:tensorflow:Maybe overwriting train_steps: 28000\n",
      "I0819 10:13:46.182654 140593170514304 config_util.py:552] Maybe overwriting train_steps: 28000\n",
      "INFO:tensorflow:Maybe overwriting use_bfloat16: False\n",
      "I0819 10:13:46.182734 140593170514304 config_util.py:552] Maybe overwriting use_bfloat16: False\n",
      "WARNING:tensorflow:num_readers has been reduced to 1 to match input file shards.\n",
      "W0819 10:18:55.798611 140593170514304 dataset_builder.py:83] num_readers has been reduced to 1 to match input file shards.\n",
      "WARNING:tensorflow:From /home/msc1/anaconda3/envs/Object-Detection-API/lib/python3.7/site-packages/object_detection/builders/dataset_builder.py:100: parallel_interleave (from tensorflow.python.data.experimental.ops.interleave_ops) is deprecated and will be removed in a future version.\n",
      "Instructions for updating:\n",
      "Use `tf.data.Dataset.interleave(map_func, cycle_length, block_length, num_parallel_calls=tf.data.experimental.AUTOTUNE)` instead. If sloppy execution is desired, use `tf.data.Options.experimental_deterministic`.\n",
      "W0819 10:18:55.801023 140593170514304 deprecation.py:323] From /home/msc1/anaconda3/envs/Object-Detection-API/lib/python3.7/site-packages/object_detection/builders/dataset_builder.py:100: parallel_interleave (from tensorflow.python.data.experimental.ops.interleave_ops) is deprecated and will be removed in a future version.\n",
      "Instructions for updating:\n",
      "Use `tf.data.Dataset.interleave(map_func, cycle_length, block_length, num_parallel_calls=tf.data.experimental.AUTOTUNE)` instead. If sloppy execution is desired, use `tf.data.Options.experimental_deterministic`.\n",
      "WARNING:tensorflow:From /home/msc1/anaconda3/envs/Object-Detection-API/lib/python3.7/site-packages/object_detection/builders/dataset_builder.py:175: DatasetV1.map_with_legacy_function (from tensorflow.python.data.ops.dataset_ops) is deprecated and will be removed in a future version.\n",
      "Instructions for updating:\n",
      "Use `tf.data.Dataset.map()\n",
      "W0819 10:18:55.815412 140593170514304 deprecation.py:323] From /home/msc1/anaconda3/envs/Object-Detection-API/lib/python3.7/site-packages/object_detection/builders/dataset_builder.py:175: DatasetV1.map_with_legacy_function (from tensorflow.python.data.ops.dataset_ops) is deprecated and will be removed in a future version.\n",
      "Instructions for updating:\n",
      "Use `tf.data.Dataset.map()\n",
      "WARNING:tensorflow:From /home/msc1/anaconda3/envs/Object-Detection-API/lib/python3.7/site-packages/object_detection/inputs.py:79: sparse_to_dense (from tensorflow.python.ops.sparse_ops) is deprecated and will be removed in a future version.\n",
      "Instructions for updating:\n",
      "Create a `tf.sparse.SparseTensor` and use `tf.sparse.to_dense` instead.\n",
      "W0819 10:19:03.969127 140593170514304 deprecation.py:323] From /home/msc1/anaconda3/envs/Object-Detection-API/lib/python3.7/site-packages/object_detection/inputs.py:79: sparse_to_dense (from tensorflow.python.ops.sparse_ops) is deprecated and will be removed in a future version.\n",
      "Instructions for updating:\n",
      "Create a `tf.sparse.SparseTensor` and use `tf.sparse.to_dense` instead.\n",
      "WARNING:tensorflow:From /home/msc1/anaconda3/envs/Object-Detection-API/lib/python3.7/site-packages/object_detection/inputs.py:259: to_float (from tensorflow.python.ops.math_ops) is deprecated and will be removed in a future version.\n",
      "Instructions for updating:\n",
      "Use `tf.cast` instead.\n",
      "W0819 10:19:09.382481 140593170514304 deprecation.py:323] From /home/msc1/anaconda3/envs/Object-Detection-API/lib/python3.7/site-packages/object_detection/inputs.py:259: to_float (from tensorflow.python.ops.math_ops) is deprecated and will be removed in a future version.\n",
      "Instructions for updating:\n",
      "Use `tf.cast` instead.\n",
      "INFO:tensorflow:depth of additional conv before box predictor: 0\n",
      "I0819 10:19:19.001541 140557275875072 convolutional_keras_box_predictor.py:154] depth of additional conv before box predictor: 0\n",
      "WARNING:tensorflow:From /home/msc1/anaconda3/envs/Object-Detection-API/lib/python3.7/site-packages/object_detection/utils/model_util.py:57: Tensor.experimental_ref (from tensorflow.python.framework.ops) is deprecated and will be removed in a future version.\n",
      "Instructions for updating:\n",
      "Use ref() instead.\n",
      "W0819 10:19:27.062695 140557275875072 deprecation.py:323] From /home/msc1/anaconda3/envs/Object-Detection-API/lib/python3.7/site-packages/object_detection/utils/model_util.py:57: Tensor.experimental_ref (from tensorflow.python.framework.ops) is deprecated and will be removed in a future version.\n",
      "Instructions for updating:\n",
      "Use ref() instead.\n",
      "WARNING:tensorflow:From /home/msc1/anaconda3/envs/Object-Detection-API/lib/python3.7/site-packages/object_detection/core/losses.py:378: softmax_cross_entropy_with_logits (from tensorflow.python.ops.nn_ops) is deprecated and will be removed in a future version.\n",
      "Instructions for updating:\n",
      "\n",
      "Future major versions of TensorFlow will allow gradients to flow\n",
      "into the labels input on backprop by default.\n",
      "\n",
      "See `tf.nn.softmax_cross_entropy_with_logits_v2`.\n",
      "\n",
      "W0819 10:19:32.271446 140557275875072 deprecation.py:323] From /home/msc1/anaconda3/envs/Object-Detection-API/lib/python3.7/site-packages/object_detection/core/losses.py:378: softmax_cross_entropy_with_logits (from tensorflow.python.ops.nn_ops) is deprecated and will be removed in a future version.\n",
      "Instructions for updating:\n",
      "\n",
      "Future major versions of TensorFlow will allow gradients to flow\n",
      "into the labels input on backprop by default.\n",
      "\n",
      "See `tf.nn.softmax_cross_entropy_with_logits_v2`.\n",
      "\n",
      "2021-08-19 10:19:39.701673: I tensorflow/stream_executor/platform/default/dso_loader.cc:44] Successfully opened dynamic library libcublas.so.10\n",
      "2021-08-19 10:21:13.683489: I tensorflow/stream_executor/platform/default/dso_loader.cc:44] Successfully opened dynamic library libcudnn.so.7\n",
      "2021-08-19 10:36:12.612485: W tensorflow/stream_executor/gpu/asm_compiler.cc:81] Running ptxas --version returned 256\n",
      "2021-08-19 10:36:12.676594: W tensorflow/stream_executor/gpu/redzone_allocator.cc:314] Internal: ptxas exited with non-zero error code 256, output: \n",
      "Relying on driver to perform ptx compilation. \n",
      "Modify $PATH to customize ptxas location.\n",
      "This message will be only logged once.\n",
      "INFO:tensorflow:Reduce to /job:localhost/replica:0/task:0/device:CPU:0 then broadcast to ('/job:localhost/replica:0/task:0/device:CPU:0',).\n",
      "I0819 10:36:42.257488 140593170514304 cross_device_ops.py:440] Reduce to /job:localhost/replica:0/task:0/device:CPU:0 then broadcast to ('/job:localhost/replica:0/task:0/device:CPU:0',).\n",
      "INFO:tensorflow:Reduce to /job:localhost/replica:0/task:0/device:CPU:0 then broadcast to ('/job:localhost/replica:0/task:0/device:CPU:0',).\n",
      "I0819 10:36:42.258189 140593170514304 cross_device_ops.py:440] Reduce to /job:localhost/replica:0/task:0/device:CPU:0 then broadcast to ('/job:localhost/replica:0/task:0/device:CPU:0',).\n",
      "INFO:tensorflow:Reduce to /job:localhost/replica:0/task:0/device:CPU:0 then broadcast to ('/job:localhost/replica:0/task:0/device:CPU:0',).\n",
      "I0819 10:36:42.258892 140593170514304 cross_device_ops.py:440] Reduce to /job:localhost/replica:0/task:0/device:CPU:0 then broadcast to ('/job:localhost/replica:0/task:0/device:CPU:0',).\n",
      "INFO:tensorflow:Reduce to /job:localhost/replica:0/task:0/device:CPU:0 then broadcast to ('/job:localhost/replica:0/task:0/device:CPU:0',).\n",
      "I0819 10:36:42.259319 140593170514304 cross_device_ops.py:440] Reduce to /job:localhost/replica:0/task:0/device:CPU:0 then broadcast to ('/job:localhost/replica:0/task:0/device:CPU:0',).\n",
      "INFO:tensorflow:Reduce to /job:localhost/replica:0/task:0/device:CPU:0 then broadcast to ('/job:localhost/replica:0/task:0/device:CPU:0',).\n",
      "I0819 10:36:42.260079 140593170514304 cross_device_ops.py:440] Reduce to /job:localhost/replica:0/task:0/device:CPU:0 then broadcast to ('/job:localhost/replica:0/task:0/device:CPU:0',).\n",
      "INFO:tensorflow:Reduce to /job:localhost/replica:0/task:0/device:CPU:0 then broadcast to ('/job:localhost/replica:0/task:0/device:CPU:0',).\n",
      "I0819 10:36:42.260502 140593170514304 cross_device_ops.py:440] Reduce to /job:localhost/replica:0/task:0/device:CPU:0 then broadcast to ('/job:localhost/replica:0/task:0/device:CPU:0',).\n",
      "INFO:tensorflow:Reduce to /job:localhost/replica:0/task:0/device:CPU:0 then broadcast to ('/job:localhost/replica:0/task:0/device:CPU:0',).\n",
      "I0819 10:36:42.261110 140593170514304 cross_device_ops.py:440] Reduce to /job:localhost/replica:0/task:0/device:CPU:0 then broadcast to ('/job:localhost/replica:0/task:0/device:CPU:0',).\n",
      "INFO:tensorflow:Reduce to /job:localhost/replica:0/task:0/device:CPU:0 then broadcast to ('/job:localhost/replica:0/task:0/device:CPU:0',).\n",
      "I0819 10:36:42.261540 140593170514304 cross_device_ops.py:440] Reduce to /job:localhost/replica:0/task:0/device:CPU:0 then broadcast to ('/job:localhost/replica:0/task:0/device:CPU:0',).\n",
      "INFO:tensorflow:Reduce to /job:localhost/replica:0/task:0/device:CPU:0 then broadcast to ('/job:localhost/replica:0/task:0/device:CPU:0',).\n",
      "I0819 10:36:42.262225 140593170514304 cross_device_ops.py:440] Reduce to /job:localhost/replica:0/task:0/device:CPU:0 then broadcast to ('/job:localhost/replica:0/task:0/device:CPU:0',).\n",
      "INFO:tensorflow:Reduce to /job:localhost/replica:0/task:0/device:CPU:0 then broadcast to ('/job:localhost/replica:0/task:0/device:CPU:0',).\n",
      "I0819 10:36:42.262651 140593170514304 cross_device_ops.py:440] Reduce to /job:localhost/replica:0/task:0/device:CPU:0 then broadcast to ('/job:localhost/replica:0/task:0/device:CPU:0',).\n",
      "WARNING:tensorflow:Unresolved object in checkpoint: (root).model._groundtruth_lists\n",
      "W0819 10:36:42.467817 140593170514304 util.py:144] Unresolved object in checkpoint: (root).model._groundtruth_lists\n",
      "WARNING:tensorflow:Unresolved object in checkpoint: (root).model._first_stage_box_predictor_first_conv\n",
      "W0819 10:36:42.467946 140593170514304 util.py:144] Unresolved object in checkpoint: (root).model._first_stage_box_predictor_first_conv\n",
      "WARNING:tensorflow:Unresolved object in checkpoint: (root).model._first_stage_box_predictor\n",
      "W0819 10:36:42.468002 140593170514304 util.py:144] Unresolved object in checkpoint: (root).model._first_stage_box_predictor\n",
      "WARNING:tensorflow:Unresolved object in checkpoint: (root).model._maxpool_layer\n",
      "W0819 10:36:42.468052 140593170514304 util.py:144] Unresolved object in checkpoint: (root).model._maxpool_layer\n",
      "WARNING:tensorflow:Unresolved object in checkpoint: (root).model._mask_rcnn_box_predictor\n",
      "W0819 10:36:42.468099 140593170514304 util.py:144] Unresolved object in checkpoint: (root).model._mask_rcnn_box_predictor\n",
      "WARNING:tensorflow:Unresolved object in checkpoint: (root).model._batched_prediction_tensor_names\n",
      "W0819 10:36:42.468144 140593170514304 util.py:144] Unresolved object in checkpoint: (root).model._batched_prediction_tensor_names\n",
      "WARNING:tensorflow:Unresolved object in checkpoint: (root).model.endpoints\n",
      "W0819 10:36:42.468189 140593170514304 util.py:144] Unresolved object in checkpoint: (root).model.endpoints\n",
      "WARNING:tensorflow:Unresolved object in checkpoint: (root).model._first_stage_box_predictor_first_conv.layer_with_weights-0\n",
      "W0819 10:36:42.468234 140593170514304 util.py:144] Unresolved object in checkpoint: (root).model._first_stage_box_predictor_first_conv.layer_with_weights-0\n",
      "WARNING:tensorflow:Unresolved object in checkpoint: (root).model._first_stage_box_predictor_first_conv.layer-1\n",
      "W0819 10:36:42.468277 140593170514304 util.py:144] Unresolved object in checkpoint: (root).model._first_stage_box_predictor_first_conv.layer-1\n",
      "WARNING:tensorflow:Unresolved object in checkpoint: (root).model._first_stage_box_predictor_first_conv.layer-2\n",
      "W0819 10:36:42.468322 140593170514304 util.py:144] Unresolved object in checkpoint: (root).model._first_stage_box_predictor_first_conv.layer-2\n",
      "WARNING:tensorflow:Unresolved object in checkpoint: (root).model._first_stage_box_predictor._prediction_heads\n",
      "W0819 10:36:42.468366 140593170514304 util.py:144] Unresolved object in checkpoint: (root).model._first_stage_box_predictor._prediction_heads\n",
      "WARNING:tensorflow:Unresolved object in checkpoint: (root).model._first_stage_box_predictor._sorted_head_names\n",
      "W0819 10:36:42.468408 140593170514304 util.py:144] Unresolved object in checkpoint: (root).model._first_stage_box_predictor._sorted_head_names\n",
      "WARNING:tensorflow:Unresolved object in checkpoint: (root).model._first_stage_box_predictor._shared_nets\n",
      "W0819 10:36:42.468451 140593170514304 util.py:144] Unresolved object in checkpoint: (root).model._first_stage_box_predictor._shared_nets\n",
      "WARNING:tensorflow:Unresolved object in checkpoint: (root).model._mask_rcnn_box_predictor._box_prediction_head\n",
      "W0819 10:36:42.468491 140593170514304 util.py:144] Unresolved object in checkpoint: (root).model._mask_rcnn_box_predictor._box_prediction_head\n",
      "WARNING:tensorflow:Unresolved object in checkpoint: (root).model._mask_rcnn_box_predictor._class_prediction_head\n",
      "W0819 10:36:42.468528 140593170514304 util.py:144] Unresolved object in checkpoint: (root).model._mask_rcnn_box_predictor._class_prediction_head\n",
      "WARNING:tensorflow:Unresolved object in checkpoint: (root).model._mask_rcnn_box_predictor._third_stage_heads\n",
      "W0819 10:36:42.468567 140593170514304 util.py:144] Unresolved object in checkpoint: (root).model._mask_rcnn_box_predictor._third_stage_heads\n",
      "WARNING:tensorflow:Unresolved object in checkpoint: (root).model._first_stage_box_predictor_first_conv.layer_with_weights-0._inbound_nodes\n",
      "W0819 10:36:42.468623 140593170514304 util.py:144] Unresolved object in checkpoint: (root).model._first_stage_box_predictor_first_conv.layer_with_weights-0._inbound_nodes\n",
      "WARNING:tensorflow:Unresolved object in checkpoint: (root).model._first_stage_box_predictor_first_conv.layer_with_weights-0.kernel\n",
      "W0819 10:36:42.468664 140593170514304 util.py:144] Unresolved object in checkpoint: (root).model._first_stage_box_predictor_first_conv.layer_with_weights-0.kernel\n",
      "WARNING:tensorflow:Unresolved object in checkpoint: (root).model._first_stage_box_predictor_first_conv.layer_with_weights-0.bias\n",
      "W0819 10:36:42.468703 140593170514304 util.py:144] Unresolved object in checkpoint: (root).model._first_stage_box_predictor_first_conv.layer_with_weights-0.bias\n",
      "WARNING:tensorflow:Unresolved object in checkpoint: (root).model._first_stage_box_predictor_first_conv.layer-1._inbound_nodes\n",
      "W0819 10:36:42.468741 140593170514304 util.py:144] Unresolved object in checkpoint: (root).model._first_stage_box_predictor_first_conv.layer-1._inbound_nodes\n",
      "WARNING:tensorflow:Unresolved object in checkpoint: (root).model._first_stage_box_predictor_first_conv.layer-2._inbound_nodes\n",
      "W0819 10:36:42.468788 140593170514304 util.py:144] Unresolved object in checkpoint: (root).model._first_stage_box_predictor_first_conv.layer-2._inbound_nodes\n",
      "WARNING:tensorflow:Unresolved object in checkpoint: (root).model._first_stage_box_predictor._prediction_heads.box_encodings\n",
      "W0819 10:36:42.468827 140593170514304 util.py:144] Unresolved object in checkpoint: (root).model._first_stage_box_predictor._prediction_heads.box_encodings\n",
      "WARNING:tensorflow:Unresolved object in checkpoint: (root).model._first_stage_box_predictor._prediction_heads.class_predictions_with_background\n",
      "W0819 10:36:42.468866 140593170514304 util.py:144] Unresolved object in checkpoint: (root).model._first_stage_box_predictor._prediction_heads.class_predictions_with_background\n",
      "WARNING:tensorflow:Unresolved object in checkpoint: (root).model._first_stage_box_predictor._shared_nets.0\n",
      "W0819 10:36:42.468905 140593170514304 util.py:144] Unresolved object in checkpoint: (root).model._first_stage_box_predictor._shared_nets.0\n",
      "WARNING:tensorflow:Unresolved object in checkpoint: (root).model._mask_rcnn_box_predictor._box_prediction_head._box_encoder_layers\n",
      "W0819 10:36:42.468944 140593170514304 util.py:144] Unresolved object in checkpoint: (root).model._mask_rcnn_box_predictor._box_prediction_head._box_encoder_layers\n",
      "WARNING:tensorflow:Unresolved object in checkpoint: (root).model._mask_rcnn_box_predictor._class_prediction_head._class_predictor_layers\n",
      "W0819 10:36:42.468982 140593170514304 util.py:144] Unresolved object in checkpoint: (root).model._mask_rcnn_box_predictor._class_prediction_head._class_predictor_layers\n",
      "WARNING:tensorflow:Unresolved object in checkpoint: (root).model._first_stage_box_predictor._prediction_heads.box_encodings.0\n",
      "W0819 10:36:42.469068 140593170514304 util.py:144] Unresolved object in checkpoint: (root).model._first_stage_box_predictor._prediction_heads.box_encodings.0\n",
      "WARNING:tensorflow:Unresolved object in checkpoint: (root).model._first_stage_box_predictor._prediction_heads.class_predictions_with_background.0\n",
      "W0819 10:36:42.469108 140593170514304 util.py:144] Unresolved object in checkpoint: (root).model._first_stage_box_predictor._prediction_heads.class_predictions_with_background.0\n",
      "WARNING:tensorflow:Unresolved object in checkpoint: (root).model._mask_rcnn_box_predictor._box_prediction_head._box_encoder_layers.0\n",
      "W0819 10:36:42.469147 140593170514304 util.py:144] Unresolved object in checkpoint: (root).model._mask_rcnn_box_predictor._box_prediction_head._box_encoder_layers.0\n",
      "WARNING:tensorflow:Unresolved object in checkpoint: (root).model._mask_rcnn_box_predictor._box_prediction_head._box_encoder_layers.1\n",
      "W0819 10:36:42.469185 140593170514304 util.py:144] Unresolved object in checkpoint: (root).model._mask_rcnn_box_predictor._box_prediction_head._box_encoder_layers.1\n",
      "WARNING:tensorflow:Unresolved object in checkpoint: (root).model._mask_rcnn_box_predictor._box_prediction_head._box_encoder_layers.2\n",
      "W0819 10:36:42.469223 140593170514304 util.py:144] Unresolved object in checkpoint: (root).model._mask_rcnn_box_predictor._box_prediction_head._box_encoder_layers.2\n",
      "WARNING:tensorflow:Unresolved object in checkpoint: (root).model._mask_rcnn_box_predictor._class_prediction_head._class_predictor_layers.0\n",
      "W0819 10:36:42.469261 140593170514304 util.py:144] Unresolved object in checkpoint: (root).model._mask_rcnn_box_predictor._class_prediction_head._class_predictor_layers.0\n",
      "WARNING:tensorflow:Unresolved object in checkpoint: (root).model._mask_rcnn_box_predictor._class_prediction_head._class_predictor_layers.1\n",
      "W0819 10:36:42.469299 140593170514304 util.py:144] Unresolved object in checkpoint: (root).model._mask_rcnn_box_predictor._class_prediction_head._class_predictor_layers.1\n",
      "WARNING:tensorflow:Unresolved object in checkpoint: (root).model._mask_rcnn_box_predictor._class_prediction_head._class_predictor_layers.2\n",
      "W0819 10:36:42.469338 140593170514304 util.py:144] Unresolved object in checkpoint: (root).model._mask_rcnn_box_predictor._class_prediction_head._class_predictor_layers.2\n",
      "WARNING:tensorflow:Unresolved object in checkpoint: (root).model._first_stage_box_predictor._prediction_heads.box_encodings.0._box_encoder_layers\n",
      "W0819 10:36:42.469375 140593170514304 util.py:144] Unresolved object in checkpoint: (root).model._first_stage_box_predictor._prediction_heads.box_encodings.0._box_encoder_layers\n",
      "WARNING:tensorflow:Unresolved object in checkpoint: (root).model._first_stage_box_predictor._prediction_heads.class_predictions_with_background.0._class_predictor_layers\n",
      "W0819 10:36:42.469414 140593170514304 util.py:144] Unresolved object in checkpoint: (root).model._first_stage_box_predictor._prediction_heads.class_predictions_with_background.0._class_predictor_layers\n",
      "WARNING:tensorflow:Unresolved object in checkpoint: (root).model._mask_rcnn_box_predictor._box_prediction_head._box_encoder_layers.1.kernel\n",
      "W0819 10:36:42.469455 140593170514304 util.py:144] Unresolved object in checkpoint: (root).model._mask_rcnn_box_predictor._box_prediction_head._box_encoder_layers.1.kernel\n",
      "WARNING:tensorflow:Unresolved object in checkpoint: (root).model._mask_rcnn_box_predictor._box_prediction_head._box_encoder_layers.1.bias\n",
      "W0819 10:36:42.469499 140593170514304 util.py:144] Unresolved object in checkpoint: (root).model._mask_rcnn_box_predictor._box_prediction_head._box_encoder_layers.1.bias\n",
      "WARNING:tensorflow:Unresolved object in checkpoint: (root).model._mask_rcnn_box_predictor._class_prediction_head._class_predictor_layers.1.kernel\n",
      "W0819 10:36:42.469542 140593170514304 util.py:144] Unresolved object in checkpoint: (root).model._mask_rcnn_box_predictor._class_prediction_head._class_predictor_layers.1.kernel\n",
      "WARNING:tensorflow:Unresolved object in checkpoint: (root).model._mask_rcnn_box_predictor._class_prediction_head._class_predictor_layers.1.bias\n",
      "W0819 10:36:42.469585 140593170514304 util.py:144] Unresolved object in checkpoint: (root).model._mask_rcnn_box_predictor._class_prediction_head._class_predictor_layers.1.bias\n",
      "WARNING:tensorflow:Unresolved object in checkpoint: (root).model._first_stage_box_predictor._prediction_heads.box_encodings.0._box_encoder_layers.0\n",
      "W0819 10:36:42.469630 140593170514304 util.py:144] Unresolved object in checkpoint: (root).model._first_stage_box_predictor._prediction_heads.box_encodings.0._box_encoder_layers.0\n",
      "WARNING:tensorflow:Unresolved object in checkpoint: (root).model._first_stage_box_predictor._prediction_heads.class_predictions_with_background.0._class_predictor_layers.0\n",
      "W0819 10:36:42.469673 140593170514304 util.py:144] Unresolved object in checkpoint: (root).model._first_stage_box_predictor._prediction_heads.class_predictions_with_background.0._class_predictor_layers.0\n",
      "WARNING:tensorflow:Unresolved object in checkpoint: (root).model._first_stage_box_predictor._prediction_heads.box_encodings.0._box_encoder_layers.0.kernel\n",
      "W0819 10:36:42.469717 140593170514304 util.py:144] Unresolved object in checkpoint: (root).model._first_stage_box_predictor._prediction_heads.box_encodings.0._box_encoder_layers.0.kernel\n",
      "WARNING:tensorflow:Unresolved object in checkpoint: (root).model._first_stage_box_predictor._prediction_heads.box_encodings.0._box_encoder_layers.0.bias\n",
      "W0819 10:36:42.469760 140593170514304 util.py:144] Unresolved object in checkpoint: (root).model._first_stage_box_predictor._prediction_heads.box_encodings.0._box_encoder_layers.0.bias\n",
      "WARNING:tensorflow:Unresolved object in checkpoint: (root).model._first_stage_box_predictor._prediction_heads.class_predictions_with_background.0._class_predictor_layers.0.kernel\n",
      "W0819 10:36:42.469804 140593170514304 util.py:144] Unresolved object in checkpoint: (root).model._first_stage_box_predictor._prediction_heads.class_predictions_with_background.0._class_predictor_layers.0.kernel\n",
      "WARNING:tensorflow:Unresolved object in checkpoint: (root).model._first_stage_box_predictor._prediction_heads.class_predictions_with_background.0._class_predictor_layers.0.bias\n",
      "W0819 10:36:42.469848 140593170514304 util.py:144] Unresolved object in checkpoint: (root).model._first_stage_box_predictor._prediction_heads.class_predictions_with_background.0._class_predictor_layers.0.bias\n",
      "WARNING:tensorflow:A checkpoint was restored (e.g. tf.train.Checkpoint.restore or tf.keras.Model.load_weights) but not all checkpointed values were used. See above for specific issues. Use expect_partial() on the load status object, e.g. tf.train.Checkpoint.restore(...).expect_partial(), to silence these warnings, or use assert_consumed() to make the check explicit. See https://www.tensorflow.org/guide/checkpoint#loading_mechanics for details.\n",
      "W0819 10:36:42.469893 140593170514304 util.py:152] A checkpoint was restored (e.g. tf.train.Checkpoint.restore or tf.keras.Model.load_weights) but not all checkpointed values were used. See above for specific issues. Use expect_partial() on the load status object, e.g. tf.train.Checkpoint.restore(...).expect_partial(), to silence these warnings, or use assert_consumed() to make the check explicit. See https://www.tensorflow.org/guide/checkpoint#loading_mechanics for details.\n",
      "WARNING:tensorflow:num_readers has been reduced to 1 to match input file shards.\n",
      "W0819 10:36:42.473644 140593170514304 dataset_builder.py:83] num_readers has been reduced to 1 to match input file shards.\n",
      "INFO:tensorflow:Step 100 per-step time 0.793s loss=nan\n",
      "I0819 10:39:17.678742 140593170514304 model_lib_v2.py:647] Step 100 per-step time 0.793s loss=nan\n",
      "INFO:tensorflow:Step 200 per-step time 0.870s loss=nan\n",
      "I0819 10:40:38.387093 140593170514304 model_lib_v2.py:647] Step 200 per-step time 0.870s loss=nan\n",
      "INFO:tensorflow:Step 300 per-step time 0.806s loss=nan\n",
      "I0819 10:41:59.385030 140593170514304 model_lib_v2.py:647] Step 300 per-step time 0.806s loss=nan\n",
      "INFO:tensorflow:Step 400 per-step time 0.820s loss=nan\n",
      "I0819 10:43:20.083974 140593170514304 model_lib_v2.py:647] Step 400 per-step time 0.820s loss=nan\n",
      "INFO:tensorflow:Step 500 per-step time 0.799s loss=nan\n",
      "I0819 10:44:41.361801 140593170514304 model_lib_v2.py:647] Step 500 per-step time 0.799s loss=nan\n",
      "INFO:tensorflow:Step 600 per-step time 0.788s loss=nan\n",
      "I0819 10:46:02.838974 140593170514304 model_lib_v2.py:647] Step 600 per-step time 0.788s loss=nan\n",
      "INFO:tensorflow:Step 700 per-step time 0.853s loss=nan\n",
      "I0819 10:47:24.718863 140593170514304 model_lib_v2.py:647] Step 700 per-step time 0.853s loss=nan\n",
      "INFO:tensorflow:Step 800 per-step time 0.793s loss=nan\n",
      "I0819 10:48:46.358810 140593170514304 model_lib_v2.py:647] Step 800 per-step time 0.793s loss=nan\n",
      "INFO:tensorflow:Step 900 per-step time 0.828s loss=nan\n",
      "I0819 10:50:08.355734 140593170514304 model_lib_v2.py:647] Step 900 per-step time 0.828s loss=nan\n",
      "INFO:tensorflow:Step 1000 per-step time 0.856s loss=nan\n",
      "I0819 10:51:30.858076 140593170514304 model_lib_v2.py:647] Step 1000 per-step time 0.856s loss=nan\n",
      "INFO:tensorflow:Step 1100 per-step time 0.809s loss=nan\n",
      "I0819 10:52:54.209683 140593170514304 model_lib_v2.py:647] Step 1100 per-step time 0.809s loss=nan\n"
     ]
    }
   ],
   "source": [
    "!python model_main_tf2.py --model_dir=training/TF2/training/{PATH_TO_MODEL} --pipeline_config_path=training/TF2/training/{PATH_TO_MODEL}/pipeline.config --num_train_steps=1500 --alsologtostderr"
   ]
  },
  {
   "cell_type": "markdown",
   "metadata": {
    "colab_type": "text",
    "id": "OmSESMetj1sa"
   },
   "source": [
    "## Exporting a Trained Inference Graph\n",
    "Once your training job is complete, you need to extract the newly trained inference graph, which will be later used to perform the object detection. This can be done as follows:"
   ]
  },
  {
   "cell_type": "code",
   "execution_count": 2,
   "metadata": {
    "colab": {},
    "colab_type": "code",
    "id": "GStNeHWPkTcN",
    "scrolled": true
   },
   "outputs": [
    {
     "name": "stderr",
     "output_type": "stream",
     "text": [
      "2021-03-24 15:35:19.162967: I tensorflow/stream_executor/platform/default/dso_loader.cc:48] Successfully opened dynamic library cudart64_101.dll\n",
      "2021-03-24 15:35:26.827869: I tensorflow/stream_executor/platform/default/dso_loader.cc:48] Successfully opened dynamic library nvcuda.dll\n",
      "2021-03-24 15:35:26.860710: I tensorflow/core/common_runtime/gpu/gpu_device.cc:1716] Found device 0 with properties: \n",
      "pciBusID: 0000:01:00.0 name: GeForce RTX 2070 Super computeCapability: 7.5\n",
      "coreClock: 1.38GHz coreCount: 40 deviceMemorySize: 8.00GiB deviceMemoryBandwidth: 417.29GiB/s\n",
      "2021-03-24 15:35:26.860751: I tensorflow/stream_executor/platform/default/dso_loader.cc:48] Successfully opened dynamic library cudart64_101.dll\n",
      "2021-03-24 15:35:27.290492: I tensorflow/stream_executor/platform/default/dso_loader.cc:48] Successfully opened dynamic library cublas64_10.dll\n",
      "2021-03-24 15:35:27.658570: I tensorflow/stream_executor/platform/default/dso_loader.cc:48] Successfully opened dynamic library cufft64_10.dll\n",
      "2021-03-24 15:35:27.686818: I tensorflow/stream_executor/platform/default/dso_loader.cc:48] Successfully opened dynamic library curand64_10.dll\n",
      "2021-03-24 15:35:27.932204: I tensorflow/stream_executor/platform/default/dso_loader.cc:48] Successfully opened dynamic library cusolver64_10.dll\n",
      "2021-03-24 15:35:28.151225: I tensorflow/stream_executor/platform/default/dso_loader.cc:48] Successfully opened dynamic library cusparse64_10.dll\n",
      "2021-03-24 15:35:28.448661: I tensorflow/stream_executor/platform/default/dso_loader.cc:48] Successfully opened dynamic library cudnn64_7.dll\n",
      "2021-03-24 15:35:28.449176: I tensorflow/core/common_runtime/gpu/gpu_device.cc:1858] Adding visible gpu devices: 0\n",
      "2021-03-24 15:35:28.453224: I tensorflow/core/platform/cpu_feature_guard.cc:142] This TensorFlow binary is optimized with oneAPI Deep Neural Network Library (oneDNN)to use the following CPU instructions in performance-critical operations:  AVX2\n",
      "To enable them in other operations, rebuild TensorFlow with the appropriate compiler flags.\n",
      "2021-03-24 15:35:28.506204: I tensorflow/compiler/xla/service/service.cc:168] XLA service 0x168c5a79fd0 initialized for platform Host (this does not guarantee that XLA will be used). Devices:\n",
      "2021-03-24 15:35:28.506221: I tensorflow/compiler/xla/service/service.cc:176]   StreamExecutor device (0): Host, Default Version\n",
      "2021-03-24 15:35:28.508285: I tensorflow/core/common_runtime/gpu/gpu_device.cc:1716] Found device 0 with properties: \n",
      "pciBusID: 0000:01:00.0 name: GeForce RTX 2070 Super computeCapability: 7.5\n",
      "coreClock: 1.38GHz coreCount: 40 deviceMemorySize: 8.00GiB deviceMemoryBandwidth: 417.29GiB/s\n",
      "2021-03-24 15:35:28.508315: I tensorflow/stream_executor/platform/default/dso_loader.cc:48] Successfully opened dynamic library cudart64_101.dll\n",
      "2021-03-24 15:35:28.508335: I tensorflow/stream_executor/platform/default/dso_loader.cc:48] Successfully opened dynamic library cublas64_10.dll\n",
      "2021-03-24 15:35:28.508340: I tensorflow/stream_executor/platform/default/dso_loader.cc:48] Successfully opened dynamic library cufft64_10.dll\n",
      "2021-03-24 15:35:28.508344: I tensorflow/stream_executor/platform/default/dso_loader.cc:48] Successfully opened dynamic library curand64_10.dll\n",
      "2021-03-24 15:35:28.508349: I tensorflow/stream_executor/platform/default/dso_loader.cc:48] Successfully opened dynamic library cusolver64_10.dll\n",
      "2021-03-24 15:35:28.508354: I tensorflow/stream_executor/platform/default/dso_loader.cc:48] Successfully opened dynamic library cusparse64_10.dll\n",
      "2021-03-24 15:35:28.508359: I tensorflow/stream_executor/platform/default/dso_loader.cc:48] Successfully opened dynamic library cudnn64_7.dll\n",
      "2021-03-24 15:35:28.508385: I tensorflow/core/common_runtime/gpu/gpu_device.cc:1858] Adding visible gpu devices: 0\n",
      "2021-03-24 15:35:29.835870: I tensorflow/core/common_runtime/gpu/gpu_device.cc:1257] Device interconnect StreamExecutor with strength 1 edge matrix:\n",
      "2021-03-24 15:35:29.835887: I tensorflow/core/common_runtime/gpu/gpu_device.cc:1263]      0 \n",
      "2021-03-24 15:35:29.835892: I tensorflow/core/common_runtime/gpu/gpu_device.cc:1276] 0:   N \n",
      "2021-03-24 15:35:29.837249: I tensorflow/core/common_runtime/gpu/gpu_device.cc:1402] Created TensorFlow device (/job:localhost/replica:0/task:0/device:GPU:0 with 6613 MB memory) -> physical GPU (device: 0, name: GeForce RTX 2070 Super, pci bus id: 0000:01:00.0, compute capability: 7.5)\n",
      "2021-03-24 15:35:29.843259: I tensorflow/compiler/xla/service/service.cc:168] XLA service 0x168f2178410 initialized for platform CUDA (this does not guarantee that XLA will be used). Devices:\n",
      "2021-03-24 15:35:29.843272: I tensorflow/compiler/xla/service/service.cc:176]   StreamExecutor device (0): GeForce RTX 2070 Super, Compute Capability 7.5\n",
      "INFO:tensorflow:depth of additional conv before box predictor: 0\n",
      "I0324 15:35:36.971793 18468 convolutional_keras_box_predictor.py:153] depth of additional conv before box predictor: 0\n",
      "WARNING:tensorflow:From C:\\Users\\Carl\\.conda\\envs\\Tensorflow-gpu-2\\lib\\site-packages\\object_detection\\utils\\model_util.py:57: Tensor.experimental_ref (from tensorflow.python.framework.ops) is deprecated and will be removed in a future version.\n",
      "Instructions for updating:\n",
      "Use ref() instead.\n",
      "W0324 15:35:42.474819 18468 deprecation.py:317] From C:\\Users\\Carl\\.conda\\envs\\Tensorflow-gpu-2\\lib\\site-packages\\object_detection\\utils\\model_util.py:57: Tensor.experimental_ref (from tensorflow.python.framework.ops) is deprecated and will be removed in a future version.\n",
      "Instructions for updating:\n",
      "Use ref() instead.\n",
      "WARNING:tensorflow:Skipping full serialization of Keras layer <object_detection.meta_architectures.faster_rcnn_meta_arch.FasterRCNNMetaArch object at 0x00000168C72F02E0>, because it is not built.\n",
      "W0324 15:35:49.581745 18468 save_impl.py:77] Skipping full serialization of Keras layer <object_detection.meta_architectures.faster_rcnn_meta_arch.FasterRCNNMetaArch object at 0x00000168C72F02E0>, because it is not built.\n",
      "2021-03-24 15:36:03.985448: W tensorflow/python/util/util.cc:348] Sets are not currently considered sequences, but this may change in the future, so consider avoiding using them.\n",
      "INFO:tensorflow:Assets written to: ./training/TF2/training/test/saved_model/saved_model\\assets\n",
      "I0324 15:36:37.825565 18468 builder_impl.py:774] Assets written to: ./training/TF2/training/test/saved_model/saved_model\\assets\n",
      "INFO:tensorflow:Writing pipeline config file to ./training/TF2/training/test/saved_model/pipeline.config\n",
      "I0324 15:36:45.624598 18468 config_util.py:253] Writing pipeline config file to ./training/TF2/training/test/saved_model/pipeline.config\n"
     ]
    }
   ],
   "source": [
    "!python exporter_main_v2.py --input_type image_tensor --pipeline_config_path ./training/TF2/training/{PATH_TO_MODEL}/pipeline.config --trained_checkpoint_dir ./training/TF2/training/{PATH_TO_MODEL}/ --output_directory ./training/TF2/training/{PATH_TO_MODEL}/saved_model/"
   ]
  },
  {
   "cell_type": "code",
   "execution_count": null,
   "metadata": {},
   "outputs": [],
   "source": []
  }
 ],
 "metadata": {
  "accelerator": "GPU",
  "colab": {
   "collapsed_sections": [],
   "include_colab_link": true,
   "name": "tensorflow-object-detection-training-colab.ipynb",
   "provenance": [],
   "toc_visible": true,
   "version": "0.3.2"
  },
  "kernelspec": {
   "display_name": "Python 3",
   "language": "python",
   "name": "python3"
  },
  "language_info": {
   "codemirror_mode": {
    "name": "ipython",
    "version": 3
   },
   "file_extension": ".py",
   "mimetype": "text/x-python",
   "name": "python",
   "nbconvert_exporter": "python",
   "pygments_lexer": "ipython3",
   "version": "3.8.11"
  }
 },
 "nbformat": 4,
 "nbformat_minor": 4
}
