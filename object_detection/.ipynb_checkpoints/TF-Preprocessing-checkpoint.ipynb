{
 "cells": [
  {
   "cell_type": "markdown",
   "metadata": {},
   "source": [
    "<strong><center><img src=\"./LJMU-logo.jpg\"><strong><center>\n",
    "<strong><center>Copyright by Paul Fergus & Carl Chalmers<strong><center>"
   ]
  },
  {
   "cell_type": "markdown",
   "metadata": {},
   "source": [
    "### Data Resoultion Analyser"
   ]
  },
  {
   "cell_type": "code",
   "execution_count": 8,
   "metadata": {},
   "outputs": [],
   "source": [
    "import os\n",
    "import seaborn as sns\n",
    "import numpy as np\n",
    "from matplotlib.pyplot import imread\n",
    "%matplotlib inline"
   ]
  },
  {
   "cell_type": "code",
   "execution_count": 9,
   "metadata": {
    "scrolled": true
   },
   "outputs": [
    {
     "name": "stdout",
     "output_type": "stream",
     "text": [
      "Car77.png\n",
      "Car75.png\n",
      "Car69.png\n",
      "Car45.png\n",
      "train\n",
      "test\n",
      "Car53.png\n",
      "Car50.png\n",
      "Car42.png\n",
      "Car56.png\n",
      "Car67.png\n",
      "Car65.png\n",
      "Car63.png\n",
      "Car73.png\n",
      "Car58.png\n"
     ]
    }
   ],
   "source": [
    "dim1 = []\n",
    "dim2 = []\n",
    "for image_filename in os.listdir('./images'):\n",
    "    name, ext = os.path.splitext(image_filename)\n",
    "    try:\n",
    "        if not ext == '.xml':\n",
    "            img = imread('./images/'+image_filename)\n",
    "            d1,d2,color = img.shape\n",
    "            dim1.append(d1)\n",
    "            dim2.append(d2)\n",
    "            \n",
    "    except: \n",
    "        print(image_filename)\n",
    "        continue"
   ]
  },
  {
   "cell_type": "code",
   "execution_count": 10,
   "metadata": {},
   "outputs": [
    {
     "name": "stderr",
     "output_type": "stream",
     "text": [
      "/home/msc1/anaconda3/envs/Object-Detection-API/lib/python3.7/site-packages/seaborn/_decorators.py:43: FutureWarning: Pass the following variables as keyword args: x, y. From version 0.12, the only valid positional argument will be `data`, and passing other arguments without an explicit keyword will result in an error or misinterpretation.\n",
      "  FutureWarning\n"
     ]
    },
    {
     "data": {
      "text/plain": [
       "<seaborn.axisgrid.JointGrid at 0x7f4c6e9ec0d0>"
      ]
     },
     "execution_count": 10,
     "metadata": {},
     "output_type": "execute_result"
    },
    {
     "data": {
      "image/png": "[encoded data removed]",
      "text/plain": [
       "<Figure size 432x432 with 3 Axes>"
      ]
     },
     "metadata": {
      "needs_background": "light"
     },
     "output_type": "display_data"
    }
   ],
   "source": [
    "sns.jointplot(dim1,dim2)"
   ]
  },
  {
   "cell_type": "code",
   "execution_count": 11,
   "metadata": {},
   "outputs": [
    {
     "data": {
      "text/plain": [
       "610.289156626506"
      ]
     },
     "execution_count": 11,
     "metadata": {},
     "output_type": "execute_result"
    }
   ],
   "source": [
    "np.mean(dim1)"
   ]
  },
  {
   "cell_type": "code",
   "execution_count": 12,
   "metadata": {},
   "outputs": [
    {
     "name": "stdout",
     "output_type": "stream",
     "text": [
      "Min: 168\n",
      "Max: 1944\n"
     ]
    }
   ],
   "source": [
    "print('Min:', np.min(dim1))\n",
    "print('Max:', np.max(dim1))"
   ]
  },
  {
   "cell_type": "code",
   "execution_count": 13,
   "metadata": {},
   "outputs": [
    {
     "data": {
      "text/plain": [
       "849.4638554216867"
      ]
     },
     "execution_count": 13,
     "metadata": {},
     "output_type": "execute_result"
    }
   ],
   "source": [
    "np.mean(dim2)"
   ]
  },
  {
   "cell_type": "code",
   "execution_count": 14,
   "metadata": {},
   "outputs": [
    {
     "name": "stdout",
     "output_type": "stream",
     "text": [
      "Min: 259\n",
      "Max: 2592\n"
     ]
    }
   ],
   "source": [
    "print('Min:', np.min(dim2))\n",
    "print('Max:', np.max(dim2))"
   ]
  },
  {
   "cell_type": "markdown",
   "metadata": {},
   "source": [
    "<strong><center><img src=\"./footer.png\"><strong><center>"
   ]
  }
 ],
 "metadata": {
  "kernelspec": {
   "display_name": "Python 3",
   "language": "python",
   "name": "python3"
  },
  "language_info": {
   "codemirror_mode": {
    "name": "ipython",
    "version": 3
   },
   "file_extension": ".py",
   "mimetype": "text/x-python",
   "name": "python",
   "nbconvert_exporter": "python",
   "pygments_lexer": "ipython3",
   "version": "3.7.11"
  }
 },
 "nbformat": 4,
 "nbformat_minor": 4
}
